{
 "cells": [
  {
   "cell_type": "code",
   "execution_count": 2,
   "metadata": {},
   "outputs": [
    {
     "ename": "ModuleNotFoundError",
     "evalue": "No module named 'datascience'",
     "output_type": "error",
     "traceback": [
      "\u001b[0;31m---------------------------------------------------------------------------\u001b[0m",
      "\u001b[0;31mModuleNotFoundError\u001b[0m                       Traceback (most recent call last)",
      "\u001b[0;32m<ipython-input-2-3c0f3b4700fc>\u001b[0m in \u001b[0;36m<module>\u001b[0;34m\u001b[0m\n\u001b[0;32m----> 1\u001b[0;31m \u001b[0;32mfrom\u001b[0m \u001b[0mdatascience\u001b[0m \u001b[0;32mimport\u001b[0m \u001b[0;34m*\u001b[0m\u001b[0;34m\u001b[0m\u001b[0;34m\u001b[0m\u001b[0m\n\u001b[0m\u001b[1;32m      2\u001b[0m \u001b[0;32mimport\u001b[0m \u001b[0mnumpy\u001b[0m \u001b[0;32mas\u001b[0m \u001b[0mnp\u001b[0m\u001b[0;34m\u001b[0m\u001b[0;34m\u001b[0m\u001b[0m\n\u001b[1;32m      3\u001b[0m \u001b[0mget_ipython\u001b[0m\u001b[0;34m(\u001b[0m\u001b[0;34m)\u001b[0m\u001b[0;34m.\u001b[0m\u001b[0mrun_line_magic\u001b[0m\u001b[0;34m(\u001b[0m\u001b[0;34m'matplotlib'\u001b[0m\u001b[0;34m,\u001b[0m \u001b[0;34m'inline'\u001b[0m\u001b[0;34m)\u001b[0m\u001b[0;34m\u001b[0m\u001b[0;34m\u001b[0m\u001b[0m\n",
      "\u001b[0;31mModuleNotFoundError\u001b[0m: No module named 'datascience'"
     ]
    }
   ],
   "source": [
    "from datascience import *\n",
    "import numpy as np\n",
    "%matplotlib inline"
   ]
  },
  {
   "cell_type": "markdown",
   "metadata": {},
   "source": [
    "# Free Music Archive : A Dataset For Music Analysis"
   ]
  },
  {
   "cell_type": "markdown",
   "metadata": {},
   "source": [
    "This dataset was introduced by Michaël Defferrard, Kirell Benzi, Pierre Vandergheynst, and Xavier Bresson at the International Society for Music Information Retrieval Conference in 2017. It has been\n",
    "cleaned for your convenience: all missing values have been removed, and low-quality observations and variables have been filtered\n",
    "out. A brief summary of the dataset, originally given at the conference, is provided below. **You\n",
    "may not copy any public analyses of this dataset. Doing so will result in an automatic F.**"
   ]
  },
  {
   "cell_type": "markdown",
   "metadata": {},
   "source": [
    "## Summary\n",
    "We introduce the Free Music Archive (FMA), an open and easily accessible dataset suitable for evaluating several tasks in MIR, a field concerned with browsing, searching, and organizing large music collections. The community's growing interest in feature and end-to-end learning is however restrained by the limited availability of large audio datasets. The FMA aims to overcome this hurdle by providing 917 GiB and 343 days of Creative Commons-licensed audio from 106,574 tracks from 16,341 artists and 14,854 albums, arranged in a hierarchical taxonomy of 161 genres. It provides full-length and high-quality audio, pre-computed features, together with track- and user-level metadata, tags, and free-form text such as biographies."
   ]
  },
  {
   "cell_type": "markdown",
   "metadata": {},
   "source": [
    "## Data Description\n",
    "\n",
    "This dataset consists of three tables stored in the `data` folder:\n",
    "1. `tracks` provides information on individual tracks.\n",
    "2. `genres` contains information on all of the genres.\n",
    "3. `features` contains information on the Spotify audio features of each track.\n",
    "\n",
    "A description of each table's variables is provided below:\n",
    "\n",
    "`tracks`:\n",
    "* `track_id`: a unique ID for each track\n",
    "* `track_title`: title of each track\n",
    "* `artist_name`: name of the artist\n",
    "* `album_title`: title of the album that the track comes from\n",
    "* `track_duration`: the length of the song in seconds\n",
    "* `track_genre`: the genre(s) that the track fall(s) into\n",
    "* `album_date_released`: a string indicating the album release date\n",
    "* `album_type`: specifies whether the album is studio-recorded, live, or from a radio program\n",
    "* `album_tracks`: number of tracks on the album\n",
    "\n",
    "`genres`:\n",
    "* `genre_id`: a unique ID for each genre\n",
    "* `title`: the name of the genre\n",
    "* `# tracks`: the number of tracks that fall into this genre\n",
    "* `parent`: the genre that this subgenre falls under (will be 0 if not a subgenre)\n",
    "\n",
    "`features` (descriptions from the [Spotify API page](https://developer.spotify.com/documentation/web-api/reference/tracks/get-audio-features/)):\n",
    "* `track_id`: a unique ID for each track\n",
    "* `acousticness`: A confidence measure from 0.0 to 1.0 of whether the track is acoustic. 1.0 represents high confidence the track is acoustic.\n",
    "* `danceability`: Danceability describes how suitable a track is for dancing based on a combination of musical elements including tempo, rhythm stability, beat strength, and overall regularity. A value of 0.0 is least danceable and 1.0 is most danceable.\n",
    "* `energy`: Energy is a measure from 0.0 to 1.0 and represents a perceptual measure of intensity and activity. Typically, energetic tracks feel fast, loud, and noisy. For example, death metal has high energy, while a Bach prelude scores low on the scale.\n",
    "* `instrumentalness`: Predicts whether a track contains no vocals. “Ooh” and “aah” sounds are treated as instrumental in this context. Rap or spoken word tracks are clearly “vocal”. The closer the instrumentalness value is to 1.0, the greater likelihood the track contains no vocal content. \n",
    "* `liveness\t`: Detects the presence of an audience in the recording. Higher liveness values represent an increased probability that the track was performed live.\n",
    "* `speechiness`: Speechiness detects the presence of spoken words in a track. The more exclusively speech-like the recording (e.g. talk show, audio book, poetry), the closer to 1.0 the attribute value. \n",
    "* `tempo`: The overall estimated tempo of a track in beats per minute (BPM). In musical terminology, tempo is the speed or pace of a given piece and derives directly from the average beat duration. \n",
    "* `valence`: \tA measure from 0.0 to 1.0 describing the musical positiveness conveyed by a track. Tracks with high valence sound more positive (e.g. happy, cheerful, euphoric), while tracks with low valence sound more negative (e.g. sad, depressed, angry)."
   ]
  },
  {
   "cell_type": "markdown",
   "metadata": {},
   "source": [
    "## Inspiration\n",
    "\n",
    "A variety of exploratory analyses, hypothesis tests, and predictions problems can tackled with this data. Here are a few ideas to get\n",
    "you started:\n",
    "\n",
    "\n",
    "1. Which genre has the longest songs?\n",
    "3. Is there a relationship between danceability and energy? What about danceability and valence?\n",
    "4. Can you classify which genre (of [pick 2 once we see data]) based on its features?\n",
    "5. Do (pick 2 genres) have the same average energy?\n",
    "\n",
    "Don't forget to review the Final Project Guidelines *(will link when live)* for a complete list of requirements."
   ]
  },
  {
   "cell_type": "markdown",
   "metadata": {},
   "source": [
    "## Exploration\n",
    "\n",
    "The tables are loaded in the code cells below. Take some time to explore them!"
   ]
  },
  {
   "cell_type": "code",
   "execution_count": 4,
   "metadata": {},
   "outputs": [
    {
     "data": {
      "text/html": [
       "<table border=\"1\" class=\"dataframe\">\n",
       "    <thead>\n",
       "        <tr>\n",
       "            <th>genre_id</th> <th>title</th> <th>#tracks</th> <th>parent</th>\n",
       "        </tr>\n",
       "    </thead>\n",
       "    <tbody>\n",
       "        <tr>\n",
       "            <td>1       </td> <td>Avant-Garde        </td> <td>8693   </td> <td>38    </td>\n",
       "        </tr>\n",
       "        <tr>\n",
       "            <td>2       </td> <td>International      </td> <td>5271   </td> <td>0     </td>\n",
       "        </tr>\n",
       "        <tr>\n",
       "            <td>3       </td> <td>Blues              </td> <td>1752   </td> <td>0     </td>\n",
       "        </tr>\n",
       "        <tr>\n",
       "            <td>4       </td> <td>Jazz               </td> <td>4126   </td> <td>0     </td>\n",
       "        </tr>\n",
       "        <tr>\n",
       "            <td>5       </td> <td>Classical          </td> <td>4106   </td> <td>0     </td>\n",
       "        </tr>\n",
       "        <tr>\n",
       "            <td>6       </td> <td>Novelty            </td> <td>914    </td> <td>38    </td>\n",
       "        </tr>\n",
       "        <tr>\n",
       "            <td>7       </td> <td>Comedy             </td> <td>217    </td> <td>20    </td>\n",
       "        </tr>\n",
       "        <tr>\n",
       "            <td>8       </td> <td>Old-Time / Historic</td> <td>868    </td> <td>0     </td>\n",
       "        </tr>\n",
       "        <tr>\n",
       "            <td>9       </td> <td>Country            </td> <td>1987   </td> <td>0     </td>\n",
       "        </tr>\n",
       "        <tr>\n",
       "            <td>10      </td> <td>Pop                </td> <td>13845  </td> <td>0     </td>\n",
       "        </tr>\n",
       "    </tbody>\n",
       "</table>\n",
       "<p>... (153 rows omitted)</p>"
      ],
      "text/plain": [
       "genre_id | title               | #tracks | parent\n",
       "1        | Avant-Garde         | 8693    | 38\n",
       "2        | International       | 5271    | 0\n",
       "3        | Blues               | 1752    | 0\n",
       "4        | Jazz                | 4126    | 0\n",
       "5        | Classical           | 4106    | 0\n",
       "6        | Novelty             | 914     | 38\n",
       "7        | Comedy              | 217     | 20\n",
       "8        | Old-Time / Historic | 868     | 0\n",
       "9        | Country             | 1987    | 0\n",
       "10       | Pop                 | 13845   | 0\n",
       "... (153 rows omitted)"
      ]
     },
     "execution_count": 4,
     "metadata": {},
     "output_type": "execute_result"
    }
   ],
   "source": [
    "#load genres\n",
    "genres = Table().read_table(\"genres_final.csv\")\n",
    "genres"
   ]
  },
  {
   "cell_type": "code",
   "execution_count": 3,
   "metadata": {},
   "outputs": [
    {
     "data": {
      "text/html": [
       "<table border=\"1\" class=\"dataframe\">\n",
       "    <thead>\n",
       "        <tr>\n",
       "            <th>Unnamed: 0</th> <th>track_id</th> <th>acousticness</th> <th>danceability</th> <th>energy</th> <th>instrumentalness</th> <th>liveness</th> <th>speechiness</th> <th>tempo</th> <th>valence</th>\n",
       "        </tr>\n",
       "    </thead>\n",
       "    <tbody>\n",
       "        <tr>\n",
       "            <td>3         </td> <td>2       </td> <td>0.416675    </td> <td>0.675894    </td> <td>0.634476 </td> <td>0.0106281       </td> <td>0.177647 </td> <td>0.15931    </td> <td>165.922</td> <td>0.576661 </td>\n",
       "        </tr>\n",
       "        <tr>\n",
       "            <td>4         </td> <td>3       </td> <td>0.374408    </td> <td>0.528643    </td> <td>0.817461 </td> <td>0.0018511       </td> <td>0.10588  </td> <td>0.461818   </td> <td>126.957</td> <td>0.26924  </td>\n",
       "        </tr>\n",
       "        <tr>\n",
       "            <td>5         </td> <td>5       </td> <td>0.0435669   </td> <td>0.745566    </td> <td>0.70147  </td> <td>0.000696799     </td> <td>0.373143 </td> <td>0.124595   </td> <td>100.26 </td> <td>0.621661 </td>\n",
       "        </tr>\n",
       "        <tr>\n",
       "            <td>6         </td> <td>10      </td> <td>0.95167     </td> <td>0.658179    </td> <td>0.924525 </td> <td>0.965427        </td> <td>0.115474 </td> <td>0.0329852  </td> <td>111.562</td> <td>0.96359  </td>\n",
       "        </tr>\n",
       "        <tr>\n",
       "            <td>7         </td> <td>134     </td> <td>0.452217    </td> <td>0.513238    </td> <td>0.56041  </td> <td>0.0194427       </td> <td>0.0965667</td> <td>0.525519   </td> <td>114.29 </td> <td>0.894072 </td>\n",
       "        </tr>\n",
       "        <tr>\n",
       "            <td>8         </td> <td>139     </td> <td>0.10655     </td> <td>0.260911    </td> <td>0.607067 </td> <td>0.835087        </td> <td>0.223676 </td> <td>0.0305693  </td> <td>196.961</td> <td>0.160267 </td>\n",
       "        </tr>\n",
       "        <tr>\n",
       "            <td>9         </td> <td>140     </td> <td>0.376312    </td> <td>0.734079    </td> <td>0.265685 </td> <td>0.669581        </td> <td>0.0859951</td> <td>0.0390682  </td> <td>107.952</td> <td>0.609991 </td>\n",
       "        </tr>\n",
       "        <tr>\n",
       "            <td>10        </td> <td>141     </td> <td>0.963657    </td> <td>0.435933    </td> <td>0.0756321</td> <td>0.345493        </td> <td>0.105686 </td> <td>0.0266578  </td> <td>33.477 </td> <td>0.16395  </td>\n",
       "        </tr>\n",
       "        <tr>\n",
       "            <td>11        </td> <td>142     </td> <td>0.662881    </td> <td>0.379065    </td> <td>0.823856 </td> <td>0.910266        </td> <td>0.0887053</td> <td>0.0790904  </td> <td>147.781</td> <td>0.0928676</td>\n",
       "        </tr>\n",
       "        <tr>\n",
       "            <td>12        </td> <td>144     </td> <td>0.909011    </td> <td>0.443643    </td> <td>0.641997 </td> <td>0.924092        </td> <td>0.267669 </td> <td>0.0896589  </td> <td>128.537</td> <td>0.788251 </td>\n",
       "        </tr>\n",
       "    </tbody>\n",
       "</table>\n",
       "<p>... (13119 rows omitted)</p>"
      ],
      "text/plain": [
       "Unnamed: 0 | track_id | acousticness | danceability | energy    | instrumentalness | liveness  | speechiness | tempo   | valence\n",
       "3          | 2        | 0.416675     | 0.675894     | 0.634476  | 0.0106281        | 0.177647  | 0.15931     | 165.922 | 0.576661\n",
       "4          | 3        | 0.374408     | 0.528643     | 0.817461  | 0.0018511        | 0.10588   | 0.461818    | 126.957 | 0.26924\n",
       "5          | 5        | 0.0435669    | 0.745566     | 0.70147   | 0.000696799      | 0.373143  | 0.124595    | 100.26  | 0.621661\n",
       "6          | 10       | 0.95167      | 0.658179     | 0.924525  | 0.965427         | 0.115474  | 0.0329852   | 111.562 | 0.96359\n",
       "7          | 134      | 0.452217     | 0.513238     | 0.56041   | 0.0194427        | 0.0965667 | 0.525519    | 114.29  | 0.894072\n",
       "8          | 139      | 0.10655      | 0.260911     | 0.607067  | 0.835087         | 0.223676  | 0.0305693   | 196.961 | 0.160267\n",
       "9          | 140      | 0.376312     | 0.734079     | 0.265685  | 0.669581         | 0.0859951 | 0.0390682   | 107.952 | 0.609991\n",
       "10         | 141      | 0.963657     | 0.435933     | 0.0756321 | 0.345493         | 0.105686  | 0.0266578   | 33.477  | 0.16395\n",
       "11         | 142      | 0.662881     | 0.379065     | 0.823856  | 0.910266         | 0.0887053 | 0.0790904   | 147.781 | 0.0928676\n",
       "12         | 144      | 0.909011     | 0.443643     | 0.641997  | 0.924092         | 0.267669  | 0.0896589   | 128.537 | 0.788251\n",
       "... (13119 rows omitted)"
      ]
     },
     "execution_count": 3,
     "metadata": {},
     "output_type": "execute_result"
    }
   ],
   "source": [
    "#load features\n",
    "features = Table().read_table(\"features_final.csv\")\n",
    "features"
   ]
  },
  {
   "cell_type": "code",
   "execution_count": 2,
   "metadata": {},
   "outputs": [
    {
     "data": {
      "text/html": [
       "<table border=\"1\" class=\"dataframe\">\n",
       "    <thead>\n",
       "        <tr>\n",
       "            <th>Unnamed: 0</th> <th>track_id</th> <th>track_title</th> <th>artist_name</th> <th>album_title</th> <th>track_duration</th> <th>track_genre</th> <th>track_bit_rate</th> <th>track_listens</th> <th>track_comments</th> <th>artist_location</th> <th>album_date_released</th> <th>album_type</th> <th>album_tracks</th>\n",
       "        </tr>\n",
       "    </thead>\n",
       "    <tbody>\n",
       "        <tr>\n",
       "            <td>2         </td> <td>2       </td> <td>Food                </td> <td>AWOL                           </td> <td>AWOL - A Way Of Life </td> <td>168           </td> <td>Hip-Hop     </td> <td>256000        </td> <td>1293         </td> <td>0             </td> <td>New Jersey     </td> <td>2009-01-05         </td> <td>Album           </td> <td>7           </td>\n",
       "        </tr>\n",
       "        <tr>\n",
       "            <td>3         </td> <td>3       </td> <td>Electric Ave        </td> <td>AWOL                           </td> <td>AWOL - A Way Of Life </td> <td>237           </td> <td>Hip-Hop     </td> <td>256000        </td> <td>514          </td> <td>0             </td> <td>New Jersey     </td> <td>2009-01-05         </td> <td>Album           </td> <td>7           </td>\n",
       "        </tr>\n",
       "        <tr>\n",
       "            <td>4         </td> <td>5       </td> <td>This World          </td> <td>AWOL                           </td> <td>AWOL - A Way Of Life </td> <td>206           </td> <td>Hip-Hop     </td> <td>256000        </td> <td>1151         </td> <td>0             </td> <td>New Jersey     </td> <td>2009-01-05         </td> <td>Album           </td> <td>7           </td>\n",
       "        </tr>\n",
       "        <tr>\n",
       "            <td>11        </td> <td>134     </td> <td>Street Music        </td> <td>AWOL                           </td> <td>AWOL - A Way Of Life </td> <td>207           </td> <td>Hip-Hop     </td> <td>256000        </td> <td>943          </td> <td>0             </td> <td>New Jersey     </td> <td>2009-01-05         </td> <td>Album           </td> <td>7           </td>\n",
       "        </tr>\n",
       "        <tr>\n",
       "            <td>14        </td> <td>137     </td> <td>Side A              </td> <td>Airway                         </td> <td>Live at LACE         </td> <td>1233          </td> <td>Experimental</td> <td>256000        </td> <td>1278         </td> <td>0             </td> <td>Los Angeles, CA</td> <td>2006-12-01         </td> <td>Live Performance</td> <td>2           </td>\n",
       "        </tr>\n",
       "        <tr>\n",
       "            <td>15        </td> <td>138     </td> <td>Side B              </td> <td>Airway                         </td> <td>Live at LACE         </td> <td>1231          </td> <td>Experimental</td> <td>256000        </td> <td>489          </td> <td>0             </td> <td>Los Angeles, CA</td> <td>2006-12-01         </td> <td>Live Performance</td> <td>2           </td>\n",
       "        </tr>\n",
       "        <tr>\n",
       "            <td>16        </td> <td>139     </td> <td>CandyAss            </td> <td>Alec K. Redfearn & the Eyesores</td> <td>Every Man For Himself</td> <td>296           </td> <td>Folk        </td> <td>128000        </td> <td>582          </td> <td>0             </td> <td>Providence, RI </td> <td>2009-01-16         </td> <td>Album           </td> <td>2           </td>\n",
       "        </tr>\n",
       "        <tr>\n",
       "            <td>17        </td> <td>140     </td> <td>Queen Of The Wires  </td> <td>Alec K. Redfearn & the Eyesores</td> <td>The Blind Spot       </td> <td>253           </td> <td>Folk        </td> <td>128000        </td> <td>1299         </td> <td>0             </td> <td>Providence, RI </td> <td>2007-05-22         </td> <td>Album           </td> <td>1           </td>\n",
       "        </tr>\n",
       "        <tr>\n",
       "            <td>18        </td> <td>141     </td> <td>Ohio                </td> <td>Alec K. Redfearn & the Eyesores</td> <td>Every Man For Himself</td> <td>182           </td> <td>Folk        </td> <td>128000        </td> <td>725          </td> <td>0             </td> <td>Providence, RI </td> <td>2009-01-16         </td> <td>Album           </td> <td>2           </td>\n",
       "        </tr>\n",
       "        <tr>\n",
       "            <td>19        </td> <td>142     </td> <td>Punjabi Watery Grave</td> <td>Alec K. Redfearn & the Eyesores</td> <td>The Quiet Room       </td> <td>470           </td> <td>Folk        </td> <td>128000        </td> <td>848          </td> <td>0             </td> <td>Providence, RI </td> <td>2005-01-25         </td> <td>Album           </td> <td>1           </td>\n",
       "        </tr>\n",
       "    </tbody>\n",
       "</table>\n",
       "<p>... (22754 rows omitted)</p>"
      ],
      "text/plain": [
       "Unnamed: 0 | track_id | track_title          | artist_name                     | album_title           | track_duration | track_genre  | track_bit_rate | track_listens | track_comments | artist_location | album_date_released | album_type       | album_tracks\n",
       "2          | 2        | Food                 | AWOL                            | AWOL - A Way Of Life  | 168            | Hip-Hop      | 256000         | 1293          | 0              | New Jersey      | 2009-01-05          | Album            | 7\n",
       "3          | 3        | Electric Ave         | AWOL                            | AWOL - A Way Of Life  | 237            | Hip-Hop      | 256000         | 514           | 0              | New Jersey      | 2009-01-05          | Album            | 7\n",
       "4          | 5        | This World           | AWOL                            | AWOL - A Way Of Life  | 206            | Hip-Hop      | 256000         | 1151          | 0              | New Jersey      | 2009-01-05          | Album            | 7\n",
       "11         | 134      | Street Music         | AWOL                            | AWOL - A Way Of Life  | 207            | Hip-Hop      | 256000         | 943           | 0              | New Jersey      | 2009-01-05          | Album            | 7\n",
       "14         | 137      | Side A               | Airway                          | Live at LACE          | 1233           | Experimental | 256000         | 1278          | 0              | Los Angeles, CA | 2006-12-01          | Live Performance | 2\n",
       "15         | 138      | Side B               | Airway                          | Live at LACE          | 1231           | Experimental | 256000         | 489           | 0              | Los Angeles, CA | 2006-12-01          | Live Performance | 2\n",
       "16         | 139      | CandyAss             | Alec K. Redfearn & the Eyesores | Every Man For Himself | 296            | Folk         | 128000         | 582           | 0              | Providence, RI  | 2009-01-16          | Album            | 2\n",
       "17         | 140      | Queen Of The Wires   | Alec K. Redfearn & the Eyesores | The Blind Spot        | 253            | Folk         | 128000         | 1299          | 0              | Providence, RI  | 2007-05-22          | Album            | 1\n",
       "18         | 141      | Ohio                 | Alec K. Redfearn & the Eyesores | Every Man For Himself | 182            | Folk         | 128000         | 725           | 0              | Providence, RI  | 2009-01-16          | Album            | 2\n",
       "19         | 142      | Punjabi Watery Grave | Alec K. Redfearn & the Eyesores | The Quiet Room        | 470            | Folk         | 128000         | 848           | 0              | Providence, RI  | 2005-01-25          | Album            | 1\n",
       "... (22754 rows omitted)"
      ]
     },
     "execution_count": 2,
     "metadata": {},
     "output_type": "execute_result"
    }
   ],
   "source": [
    "#load tracks\n",
    "tracks = Table().read_table(\"tracks_final.csv\")\n",
    "tracks"
   ]
  },
  {
   "cell_type": "code",
   "execution_count": 1,
   "metadata": {},
   "outputs": [
    {
     "ename": "NameError",
     "evalue": "name 'Table' is not defined",
     "output_type": "error",
     "traceback": [
      "\u001b[0;31m---------------------------------------------------------------------------\u001b[0m",
      "\u001b[0;31mNameError\u001b[0m                                 Traceback (most recent call last)",
      "\u001b[0;32m<ipython-input-1-8451a6cf3c2e>\u001b[0m in \u001b[0;36m<module>\u001b[0;34m\u001b[0m\n\u001b[1;32m      1\u001b[0m \u001b[0;31m#load tracks\u001b[0m\u001b[0;34m\u001b[0m\u001b[0;34m\u001b[0m\u001b[0;34m\u001b[0m\u001b[0m\n\u001b[0;32m----> 2\u001b[0;31m \u001b[0mtracks\u001b[0m \u001b[0;34m=\u001b[0m \u001b[0mTable\u001b[0m\u001b[0;34m(\u001b[0m\u001b[0;34m)\u001b[0m\u001b[0;34m.\u001b[0m\u001b[0mread_table\u001b[0m\u001b[0;34m(\u001b[0m\u001b[0;34m\"tracks.csv\"\u001b[0m\u001b[0;34m)\u001b[0m\u001b[0;34m\u001b[0m\u001b[0;34m\u001b[0m\u001b[0m\n\u001b[0m",
      "\u001b[0;31mNameError\u001b[0m: name 'Table' is not defined"
     ]
    }
   ],
   "source": [
    "#load tracks\n",
    "tracks = Table().read_table(\"tracks.csv\")\n",
    "tracks"
   ]
  },
  {
   "cell_type": "code",
   "execution_count": null,
   "metadata": {},
   "outputs": [],
   "source": []
  }
 ],
 "metadata": {
  "kernelspec": {
   "display_name": "Python 3",
   "language": "python",
   "name": "python3"
  },
  "language_info": {
   "codemirror_mode": {
    "name": "ipython",
    "version": 3
   },
   "file_extension": ".py",
   "mimetype": "text/x-python",
   "name": "python",
   "nbconvert_exporter": "python",
   "pygments_lexer": "ipython3",
   "version": "3.7.3"
  }
 },
 "nbformat": 4,
 "nbformat_minor": 4
}
