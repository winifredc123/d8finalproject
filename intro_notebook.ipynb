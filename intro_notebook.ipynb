{
 "cells": [
  {
   "cell_type": "code",
   "execution_count": 3,
   "metadata": {},
   "outputs": [],
   "source": [
    "from datascience import *\n",
    "import numpy as np\n",
    "%matplotlib inline"
   ]
  },
  {
   "cell_type": "markdown",
   "metadata": {},
   "source": [
    "# Free Music Archive : A Dataset For Music Analysis"
   ]
  },
  {
   "cell_type": "markdown",
   "metadata": {},
   "source": [
    "This dataset was introduced by Michaël Defferrard, Kirell Benzi, Pierre Vandergheynst, and Xavier Bresson at the International Society for Music Information Retrieval Conference in 2017. It has been\n",
    "cleaned for your convenience: all missing values have been removed, and low-quality observations and variables have been filtered\n",
    "out. A brief summary of the dataset, originally given at the conference, is provided below. **You\n",
    "may not copy any public analyses of this dataset. Doing so will result in an automatic F.**"
   ]
  },
  {
   "cell_type": "markdown",
   "metadata": {},
   "source": [
    "## Summary\n",
    "\"We introduce the Free Music Archive (FMA), an open and easily accessible dataset suitable for evaluating several tasks in MIR, a field concerned with browsing, searching, and organizing large music collections. The community's growing interest in feature and end-to-end learning is however restrained by the limited availability of large audio datasets. The FMA aims to overcome this hurdle by providing 917 GiB and 343 days of Creative Commons-licensed audio from 106,574 tracks from 16,341 artists and 14,854 albums, arranged in a hierarchical taxonomy of 161 genres. It provides full-length and high-quality audio, pre-computed features, together with track- and user-level metadata, tags, and free-form text such as biographies.\""
   ]
  },
  {
   "cell_type": "markdown",
   "metadata": {},
   "source": [
    "## Data Description\n",
    "\n",
    "This dataset consists of three tables stored in the `data` folder:\n",
    "1. `tracks` provides information on individual tracks.\n",
    "2. `genres` contains information on all of the genres.\n",
    "3. `features` contains information on the Spotify audio features of each track.\n",
    "\n",
    "A description of each table's variables is provided below:\n",
    "\n",
    "`tracks`:\n",
    "* `track_id`: a unique ID for each track\n",
    "* `track_title`: title of each track\n",
    "* `artist_name`: name of the artist\n",
    "* `album_title`: title of the album that the track comes from\n",
    "* `track_duration`: the length of the song in seconds\n",
    "* `track_genre`: the genre(s) that the track fall(s) into\n",
    "* `album_date_released`: a string indicating the album release date\n",
    "* `album_type`: specifies whether the album is studio-recorded, live, or from a radio program\n",
    "* `album_tracks`: number of tracks on the album\n",
    "\n",
    "`genres`:\n",
    "* `genre_id`: a unique ID for each genre\n",
    "* `title`: the name of the genre\n",
    "* `# tracks`: the number of tracks that fall into this genre\n",
    "* `parent`: the genre that this subgenre falls under (will be 0 if not a subgenre)\n",
    "\n",
    "`features` (descriptions from the [Spotify API page](https://developer.spotify.com/documentation/web-api/reference/tracks/get-audio-features/)):\n",
    "* `track_id`: a unique ID for each track\n",
    "* `acousticness`: A confidence measure from 0.0 to 1.0 of whether the track is acoustic. 1.0 represents high confidence the track is acoustic.\n",
    "* `danceability`: Danceability describes how suitable a track is for dancing based on a combination of musical elements including tempo, rhythm stability, beat strength, and overall regularity. A value of 0.0 is least danceable and 1.0 is most danceable.\n",
    "* `energy`: Energy is a measure from 0.0 to 1.0 and represents a perceptual measure of intensity and activity. Typically, energetic tracks feel fast, loud, and noisy. For example, death metal has high energy, while a Bach prelude scores low on the scale.\n",
    "* `instrumentalness`: Predicts whether a track contains no vocals. “Ooh” and “aah” sounds are treated as instrumental in this context. Rap or spoken word tracks are clearly “vocal”. The closer the instrumentalness value is to 1.0, the greater likelihood the track contains no vocal content. \n",
    "* `liveness\t`: Detects the presence of an audience in the recording. Higher liveness values represent an increased probability that the track was performed live.\n",
    "* `speechiness`: Speechiness detects the presence of spoken words in a track. The more exclusively speech-like the recording (e.g. talk show, audio book, poetry), the closer to 1.0 the attribute value. \n",
    "* `tempo`: The overall estimated tempo of a track in beats per minute (BPM). In musical terminology, tempo is the speed or pace of a given piece and derives directly from the average beat duration. \n",
    "* `valence`: \tA measure from 0.0 to 1.0 describing the musical positiveness conveyed by a track. Tracks with high valence sound more positive (e.g. happy, cheerful, euphoric), while tracks with low valence sound more negative (e.g. sad, depressed, angry)."
   ]
  },
  {
   "cell_type": "markdown",
   "metadata": {},
   "source": [
    "## Inspiration\n",
    "\n",
    "A variety of exploratory analyses, hypothesis tests, and predictions problems can tackled with this data. Here are a few ideas to get\n",
    "you started:\n",
    "\n",
    "\n",
    "1. Which genre has the longest songs?\n",
    "3. Is there a relationship between danceability and energy? What about danceability and valence?\n",
    "4. Can you classify which genre (of [pick 2 once we see data]) based on its features?\n",
    "5. Do (pick 2 genres) have the same average energy?\n",
    "\n",
    "Don't forget to review the Final Project Guidelines *(will link when live)* for a complete list of requirements."
   ]
  },
  {
   "cell_type": "markdown",
   "metadata": {},
   "source": [
    "## Exploration\n",
    "\n",
    "The tables are loaded in the code cells below. Take some time to explore them!"
   ]
  },
  {
   "cell_type": "code",
   "execution_count": 4,
   "metadata": {},
   "outputs": [
    {
     "data": {
      "text/html": [
       "<table border=\"1\" class=\"dataframe\">\n",
       "    <thead>\n",
       "        <tr>\n",
       "            <th>genre_id</th> <th>title</th> <th>#tracks</th> <th>parent</th>\n",
       "        </tr>\n",
       "    </thead>\n",
       "    <tbody>\n",
       "        <tr>\n",
       "            <td>1       </td> <td>Avant-Garde        </td> <td>8693   </td> <td>38    </td>\n",
       "        </tr>\n",
       "        <tr>\n",
       "            <td>2       </td> <td>International      </td> <td>5271   </td> <td>0     </td>\n",
       "        </tr>\n",
       "        <tr>\n",
       "            <td>3       </td> <td>Blues              </td> <td>1752   </td> <td>0     </td>\n",
       "        </tr>\n",
       "        <tr>\n",
       "            <td>4       </td> <td>Jazz               </td> <td>4126   </td> <td>0     </td>\n",
       "        </tr>\n",
       "        <tr>\n",
       "            <td>5       </td> <td>Classical          </td> <td>4106   </td> <td>0     </td>\n",
       "        </tr>\n",
       "        <tr>\n",
       "            <td>6       </td> <td>Novelty            </td> <td>914    </td> <td>38    </td>\n",
       "        </tr>\n",
       "        <tr>\n",
       "            <td>7       </td> <td>Comedy             </td> <td>217    </td> <td>20    </td>\n",
       "        </tr>\n",
       "        <tr>\n",
       "            <td>8       </td> <td>Old-Time / Historic</td> <td>868    </td> <td>0     </td>\n",
       "        </tr>\n",
       "        <tr>\n",
       "            <td>9       </td> <td>Country            </td> <td>1987   </td> <td>0     </td>\n",
       "        </tr>\n",
       "        <tr>\n",
       "            <td>10      </td> <td>Pop                </td> <td>13845  </td> <td>0     </td>\n",
       "        </tr>\n",
       "    </tbody>\n",
       "</table>\n",
       "<p>... (153 rows omitted)</p>"
      ],
      "text/plain": [
       "genre_id | title               | #tracks | parent\n",
       "1        | Avant-Garde         | 8693    | 38\n",
       "2        | International       | 5271    | 0\n",
       "3        | Blues               | 1752    | 0\n",
       "4        | Jazz                | 4126    | 0\n",
       "5        | Classical           | 4106    | 0\n",
       "6        | Novelty             | 914     | 38\n",
       "7        | Comedy              | 217     | 20\n",
       "8        | Old-Time / Historic | 868     | 0\n",
       "9        | Country             | 1987    | 0\n",
       "10       | Pop                 | 13845   | 0\n",
       "... (153 rows omitted)"
      ]
     },
     "execution_count": 4,
     "metadata": {},
     "output_type": "execute_result"
    }
   ],
   "source": [
    "#load genres\n",
    "genres = Table().read_table(\"data/genres_final.csv\")\n",
    "genres"
   ]
  },
  {
   "cell_type": "code",
   "execution_count": 10,
   "metadata": {},
   "outputs": [
    {
     "data": {
      "text/html": [
       "<table border=\"1\" class=\"dataframe\">\n",
       "    <thead>\n",
       "        <tr>\n",
       "            <th>track_id</th> <th>acousticness</th> <th>danceability</th> <th>energy</th> <th>instrumentalness</th> <th>liveness</th> <th>speechiness</th> <th>tempo</th> <th>valence</th>\n",
       "        </tr>\n",
       "    </thead>\n",
       "    <tbody>\n",
       "        <tr>\n",
       "            <td>145     </td> <td>0.235506    </td> <td>0.438672    </td> <td>0.487752 </td> <td>0.716122        </td> <td>0.0703593</td> <td>0.0472978  </td> <td>120.79 </td> <td>0.650452 </td>\n",
       "        </tr>\n",
       "        <tr>\n",
       "            <td>155     </td> <td>0.981657    </td> <td>0.142249    </td> <td>0.912122 </td> <td>0.967294        </td> <td>0.36351  </td> <td>0.087527   </td> <td>91.912 </td> <td>0.0343253</td>\n",
       "        </tr>\n",
       "        <tr>\n",
       "            <td>201     </td> <td>0.991813    </td> <td>0.461855    </td> <td>0.543751 </td> <td>0.964922        </td> <td>0.137006 </td> <td>0.0256877  </td> <td>93.945 </td> <td>0.758632 </td>\n",
       "        </tr>\n",
       "        <tr>\n",
       "            <td>307     </td> <td>0.77377     </td> <td>0.552026    </td> <td>0.251328 </td> <td>0.568976        </td> <td>0.110743 </td> <td>0.0506326  </td> <td>117.247</td> <td>0.356984 </td>\n",
       "        </tr>\n",
       "        <tr>\n",
       "            <td>309     </td> <td>0.335481    </td> <td>0.390263    </td> <td>0.0210674</td> <td>0.937508        </td> <td>0.0890457</td> <td>0.0414906  </td> <td>60.382 </td> <td>0.0399321</td>\n",
       "        </tr>\n",
       "        <tr>\n",
       "            <td>319     </td> <td>0.890498    </td> <td>0.316413    </td> <td>0.0596131</td> <td>0.913303        </td> <td>0.108808 </td> <td>0.0387785  </td> <td>133.934</td> <td>0.122417 </td>\n",
       "        </tr>\n",
       "        <tr>\n",
       "            <td>327     </td> <td>0.928171    </td> <td>0.553091    </td> <td>0.303937 </td> <td>0.95423         </td> <td>0.110752 </td> <td>0.107401   </td> <td>110.039</td> <td>0.616368 </td>\n",
       "        </tr>\n",
       "        <tr>\n",
       "            <td>328     </td> <td>0.297541    </td> <td>0.624953    </td> <td>0.176884 </td> <td>0.815871        </td> <td>0.0928226</td> <td>0.0551486  </td> <td>114.858</td> <td>0.503635 </td>\n",
       "        </tr>\n",
       "        <tr>\n",
       "            <td>350     </td> <td>0.989664    </td> <td>0.463938    </td> <td>0.363612 </td> <td>0.919011        </td> <td>0.11874  </td> <td>0.0376218  </td> <td>99.384 </td> <td>0.591003 </td>\n",
       "        </tr>\n",
       "        <tr>\n",
       "            <td>364     </td> <td>0.98638     </td> <td>0.61286     </td> <td>0.15611  </td> <td>0.104549        </td> <td>0.107289 </td> <td>0.198543   </td> <td>109.256</td> <td>0.483544 </td>\n",
       "        </tr>\n",
       "    </tbody>\n",
       "</table>\n",
       "<p>... (449 rows omitted)</p>"
      ],
      "text/plain": [
       "track_id | acousticness | danceability | energy    | instrumentalness | liveness  | speechiness | tempo   | valence\n",
       "145      | 0.235506     | 0.438672     | 0.487752  | 0.716122         | 0.0703593 | 0.0472978   | 120.79  | 0.650452\n",
       "155      | 0.981657     | 0.142249     | 0.912122  | 0.967294         | 0.36351   | 0.087527    | 91.912  | 0.0343253\n",
       "201      | 0.991813     | 0.461855     | 0.543751  | 0.964922         | 0.137006  | 0.0256877   | 93.945  | 0.758632\n",
       "307      | 0.77377      | 0.552026     | 0.251328  | 0.568976         | 0.110743  | 0.0506326   | 117.247 | 0.356984\n",
       "309      | 0.335481     | 0.390263     | 0.0210674 | 0.937508         | 0.0890457 | 0.0414906   | 60.382  | 0.0399321\n",
       "319      | 0.890498     | 0.316413     | 0.0596131 | 0.913303         | 0.108808  | 0.0387785   | 133.934 | 0.122417\n",
       "327      | 0.928171     | 0.553091     | 0.303937  | 0.95423          | 0.110752  | 0.107401    | 110.039 | 0.616368\n",
       "328      | 0.297541     | 0.624953     | 0.176884  | 0.815871         | 0.0928226 | 0.0551486   | 114.858 | 0.503635\n",
       "350      | 0.989664     | 0.463938     | 0.363612  | 0.919011         | 0.11874   | 0.0376218   | 99.384  | 0.591003\n",
       "364      | 0.98638      | 0.61286      | 0.15611   | 0.104549         | 0.107289  | 0.198543    | 109.256 | 0.483544\n",
       "... (449 rows omitted)"
      ]
     },
     "execution_count": 10,
     "metadata": {},
     "output_type": "execute_result"
    }
   ],
   "source": [
    "#load features\n",
    "features = Table().read_table(\"data/features_final.csv\")\n",
    "features"
   ]
  },
  {
   "cell_type": "code",
   "execution_count": 11,
   "metadata": {},
   "outputs": [
    {
     "data": {
      "text/html": [
       "<table border=\"1\" class=\"dataframe\">\n",
       "    <thead>\n",
       "        <tr>\n",
       "            <th>track_id</th> <th>track_title</th> <th>artist_name</th> <th>album_title</th> <th>track_duration</th> <th>track_genre</th> <th>album_date_released</th> <th>album_type</th> <th>album_tracks</th>\n",
       "        </tr>\n",
       "    </thead>\n",
       "    <tbody>\n",
       "        <tr>\n",
       "            <td>145     </td> <td>Amoebiasis              </td> <td>Amoebic Ensemble</td> <td>Amoebiasis                     </td> <td>326           </td> <td>Jazz       </td> <td>2009-01-06         </td> <td>Album        </td> <td>0           </td>\n",
       "        </tr>\n",
       "        <tr>\n",
       "            <td>155     </td> <td>Maps of the Stars Homes </td> <td>Arc and Sender  </td> <td>unreleased demo                </td> <td>756           </td> <td>Rock       </td> <td>2009-01-06         </td> <td>Single Tracks</td> <td>1           </td>\n",
       "        </tr>\n",
       "        <tr>\n",
       "            <td>201     </td> <td>Big City                </td> <td>Ed Askew        </td> <td>What I Know                    </td> <td>210           </td> <td>Folk       </td> <td>2009-01-07         </td> <td>Album        </td> <td>10          </td>\n",
       "        </tr>\n",
       "        <tr>\n",
       "            <td>307     </td> <td>Out on the farm         </td> <td>Blah Blah Blah  </td> <td>Green Collection               </td> <td>205           </td> <td>Rock       </td> <td>2007-09-01         </td> <td>Album        </td> <td>0           </td>\n",
       "        </tr>\n",
       "        <tr>\n",
       "            <td>309     </td> <td>Where are all the people</td> <td>Blah Blah Blah  </td> <td>Green Collection               </td> <td>229           </td> <td>Rock       </td> <td>2007-09-01         </td> <td>Album        </td> <td>0           </td>\n",
       "        </tr>\n",
       "        <tr>\n",
       "            <td>319     </td> <td>Complete Shakespeare    </td> <td>Blah Blah Blah  </td> <td>Green Collection               </td> <td>156           </td> <td>Rock       </td> <td>2007-09-01         </td> <td>Album        </td> <td>0           </td>\n",
       "        </tr>\n",
       "        <tr>\n",
       "            <td>327     </td> <td>Hands Beckoning         </td> <td>Blah Blah Blah  </td> <td>Stripey Collection             </td> <td>259           </td> <td>Rock       </td> <td>1982-04-06         </td> <td>Album        </td> <td>0           </td>\n",
       "        </tr>\n",
       "        <tr>\n",
       "            <td>328     </td> <td>Central Park            </td> <td>Blah Blah Blah  </td> <td>Stripey Collection             </td> <td>236           </td> <td>Rock       </td> <td>1982-04-06         </td> <td>Album        </td> <td>0           </td>\n",
       "        </tr>\n",
       "        <tr>\n",
       "            <td>350     </td> <td>Gotta Go                </td> <td>Blah Blah Blah  </td> <td>30th Anniversary Blah Blah Blah</td> <td>101           </td> <td>Rock       </td> <td>2009-01-01         </td> <td>Album        </td> <td>21          </td>\n",
       "        </tr>\n",
       "        <tr>\n",
       "            <td>364     </td> <td>Sunspot activity        </td> <td>Blah Blah Blah  </td> <td>30th Anniversary Blah Blah Blah</td> <td>152           </td> <td>Rock       </td> <td>2009-01-01         </td> <td>Album        </td> <td>21          </td>\n",
       "        </tr>\n",
       "    </tbody>\n",
       "</table>\n",
       "<p>... (449 rows omitted)</p>"
      ],
      "text/plain": [
       "track_id | track_title              | artist_name      | album_title                     | track_duration | track_genre | album_date_released | album_type    | album_tracks\n",
       "145      | Amoebiasis               | Amoebic Ensemble | Amoebiasis                      | 326            | Jazz        | 2009-01-06          | Album         | 0\n",
       "155      | Maps of the Stars Homes  | Arc and Sender   | unreleased demo                 | 756            | Rock        | 2009-01-06          | Single Tracks | 1\n",
       "201      | Big City                 | Ed Askew         | What I Know                     | 210            | Folk        | 2009-01-07          | Album         | 10\n",
       "307      | Out on the farm          | Blah Blah Blah   | Green Collection                | 205            | Rock        | 2007-09-01          | Album         | 0\n",
       "309      | Where are all the people | Blah Blah Blah   | Green Collection                | 229            | Rock        | 2007-09-01          | Album         | 0\n",
       "319      | Complete Shakespeare     | Blah Blah Blah   | Green Collection                | 156            | Rock        | 2007-09-01          | Album         | 0\n",
       "327      | Hands Beckoning          | Blah Blah Blah   | Stripey Collection              | 259            | Rock        | 1982-04-06          | Album         | 0\n",
       "328      | Central Park             | Blah Blah Blah   | Stripey Collection              | 236            | Rock        | 1982-04-06          | Album         | 0\n",
       "350      | Gotta Go                 | Blah Blah Blah   | 30th Anniversary Blah Blah Blah | 101            | Rock        | 2009-01-01          | Album         | 21\n",
       "364      | Sunspot activity         | Blah Blah Blah   | 30th Anniversary Blah Blah Blah | 152            | Rock        | 2009-01-01          | Album         | 21\n",
       "... (449 rows omitted)"
      ]
     },
     "execution_count": 11,
     "metadata": {},
     "output_type": "execute_result"
    }
   ],
   "source": [
    "#load tracks\n",
    "tracks = Table().read_table(\"data/tracks_final.csv\")\n",
    "tracks"
   ]
  },
  {
   "cell_type": "code",
   "execution_count": null,
   "metadata": {},
   "outputs": [],
   "source": []
  }
 ],
 "metadata": {
  "kernelspec": {
   "display_name": "Python 3",
   "language": "python",
   "name": "python3"
  },
  "language_info": {
   "codemirror_mode": {
    "name": "ipython",
    "version": 3
   },
   "file_extension": ".py",
   "mimetype": "text/x-python",
   "name": "python",
   "nbconvert_exporter": "python",
   "pygments_lexer": "ipython3",
   "version": "3.6.9"
  }
 },
 "nbformat": 4,
 "nbformat_minor": 4
}
